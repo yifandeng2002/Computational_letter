{
 "cells": [
  {
   "cell_type": "markdown",
   "metadata": {},
   "source": [
    "# Converting Jupyter Notebook to HTML for Wix\n",
    "\n",
    "This notebook provides executable code to convert your Jupyter notebook to HTML format for embedding in Wix. Just run each cell in order and follow the prompts."
   ]
  },
  {
   "cell_type": "markdown",
   "metadata": {},
   "source": [
    "## 1. Install Required Package\n",
    "First, let's install `nbconvert` if you haven't already:"
   ]
  },
  {
   "cell_type": "code",
   "execution_count": 1,
   "metadata": {},
   "outputs": [
    {
     "name": "stdout",
     "output_type": "stream",
     "text": [
      "Requirement already satisfied: nbconvert in /Users/yifan/Library/jupyterlab-desktop/jlab_server/lib/python3.12/site-packages (7.16.4)\n",
      "Requirement already satisfied: beautifulsoup4 in /Users/yifan/Library/jupyterlab-desktop/jlab_server/lib/python3.12/site-packages (from nbconvert) (4.12.3)\n",
      "Requirement already satisfied: bleach!=5.0.0 in /Users/yifan/Library/jupyterlab-desktop/jlab_server/lib/python3.12/site-packages (from nbconvert) (6.1.0)\n",
      "Requirement already satisfied: defusedxml in /Users/yifan/Library/jupyterlab-desktop/jlab_server/lib/python3.12/site-packages (from nbconvert) (0.7.1)\n",
      "Requirement already satisfied: jinja2>=3.0 in /Users/yifan/Library/jupyterlab-desktop/jlab_server/lib/python3.12/site-packages (from nbconvert) (3.1.4)\n",
      "Requirement already satisfied: jupyter-core>=4.7 in /Users/yifan/Library/jupyterlab-desktop/jlab_server/lib/python3.12/site-packages (from nbconvert) (5.7.2)\n",
      "Requirement already satisfied: jupyterlab-pygments in /Users/yifan/Library/jupyterlab-desktop/jlab_server/lib/python3.12/site-packages (from nbconvert) (0.3.0)\n",
      "Requirement already satisfied: markupsafe>=2.0 in /Users/yifan/Library/jupyterlab-desktop/jlab_server/lib/python3.12/site-packages (from nbconvert) (2.1.5)\n",
      "Requirement already satisfied: mistune<4,>=2.0.3 in /Users/yifan/Library/jupyterlab-desktop/jlab_server/lib/python3.12/site-packages (from nbconvert) (3.0.2)\n",
      "Requirement already satisfied: nbclient>=0.5.0 in /Users/yifan/Library/jupyterlab-desktop/jlab_server/lib/python3.12/site-packages (from nbconvert) (0.10.0)\n",
      "Requirement already satisfied: nbformat>=5.7 in /Users/yifan/Library/jupyterlab-desktop/jlab_server/lib/python3.12/site-packages (from nbconvert) (5.10.4)\n",
      "Requirement already satisfied: packaging in /Users/yifan/Library/jupyterlab-desktop/jlab_server/lib/python3.12/site-packages (from nbconvert) (24.1)\n",
      "Requirement already satisfied: pandocfilters>=1.4.1 in /Users/yifan/Library/jupyterlab-desktop/jlab_server/lib/python3.12/site-packages (from nbconvert) (1.5.0)\n",
      "Requirement already satisfied: pygments>=2.4.1 in /Users/yifan/Library/jupyterlab-desktop/jlab_server/lib/python3.12/site-packages (from nbconvert) (2.18.0)\n",
      "Requirement already satisfied: tinycss2 in /Users/yifan/Library/jupyterlab-desktop/jlab_server/lib/python3.12/site-packages (from nbconvert) (1.3.0)\n",
      "Requirement already satisfied: traitlets>=5.1 in /Users/yifan/Library/jupyterlab-desktop/jlab_server/lib/python3.12/site-packages (from nbconvert) (5.14.3)\n",
      "Requirement already satisfied: six>=1.9.0 in /Users/yifan/Library/jupyterlab-desktop/jlab_server/lib/python3.12/site-packages (from bleach!=5.0.0->nbconvert) (1.16.0)\n",
      "Requirement already satisfied: webencodings in /Users/yifan/Library/jupyterlab-desktop/jlab_server/lib/python3.12/site-packages (from bleach!=5.0.0->nbconvert) (0.5.1)\n",
      "Requirement already satisfied: platformdirs>=2.5 in /Users/yifan/Library/jupyterlab-desktop/jlab_server/lib/python3.12/site-packages (from jupyter-core>=4.7->nbconvert) (4.2.2)\n",
      "Requirement already satisfied: jupyter-client>=6.1.12 in /Users/yifan/Library/jupyterlab-desktop/jlab_server/lib/python3.12/site-packages (from nbclient>=0.5.0->nbconvert) (8.6.2)\n",
      "Requirement already satisfied: fastjsonschema>=2.15 in /Users/yifan/Library/jupyterlab-desktop/jlab_server/lib/python3.12/site-packages (from nbformat>=5.7->nbconvert) (2.20.0)\n",
      "Requirement already satisfied: jsonschema>=2.6 in /Users/yifan/Library/jupyterlab-desktop/jlab_server/lib/python3.12/site-packages (from nbformat>=5.7->nbconvert) (4.23.0)\n",
      "Requirement already satisfied: soupsieve>1.2 in /Users/yifan/Library/jupyterlab-desktop/jlab_server/lib/python3.12/site-packages (from beautifulsoup4->nbconvert) (2.5)\n",
      "Requirement already satisfied: attrs>=22.2.0 in /Users/yifan/Library/jupyterlab-desktop/jlab_server/lib/python3.12/site-packages (from jsonschema>=2.6->nbformat>=5.7->nbconvert) (24.2.0)\n",
      "Requirement already satisfied: jsonschema-specifications>=2023.03.6 in /Users/yifan/Library/jupyterlab-desktop/jlab_server/lib/python3.12/site-packages (from jsonschema>=2.6->nbformat>=5.7->nbconvert) (2023.12.1)\n",
      "Requirement already satisfied: referencing>=0.28.4 in /Users/yifan/Library/jupyterlab-desktop/jlab_server/lib/python3.12/site-packages (from jsonschema>=2.6->nbformat>=5.7->nbconvert) (0.35.1)\n",
      "Requirement already satisfied: rpds-py>=0.7.1 in /Users/yifan/Library/jupyterlab-desktop/jlab_server/lib/python3.12/site-packages (from jsonschema>=2.6->nbformat>=5.7->nbconvert) (0.20.0)\n",
      "Requirement already satisfied: python-dateutil>=2.8.2 in /Users/yifan/Library/jupyterlab-desktop/jlab_server/lib/python3.12/site-packages (from jupyter-client>=6.1.12->nbclient>=0.5.0->nbconvert) (2.9.0)\n",
      "Requirement already satisfied: pyzmq>=23.0 in /Users/yifan/Library/jupyterlab-desktop/jlab_server/lib/python3.12/site-packages (from jupyter-client>=6.1.12->nbclient>=0.5.0->nbconvert) (26.2.0)\n",
      "Requirement already satisfied: tornado>=6.2 in /Users/yifan/Library/jupyterlab-desktop/jlab_server/lib/python3.12/site-packages (from jupyter-client>=6.1.12->nbclient>=0.5.0->nbconvert) (6.4.1)\n"
     ]
    }
   ],
   "source": [
    "!pip install nbconvert"
   ]
  },
  {
   "cell_type": "markdown",
   "metadata": {},
   "source": [
    "## 2. Import Required Libraries\n",
    "Now we'll import the libraries we need:"
   ]
  },
  {
   "cell_type": "code",
   "execution_count": 2,
   "metadata": {},
   "outputs": [],
   "source": [
    "import nbconvert\n",
    "import nbformat\n",
    "import os\n",
    "from IPython.display import HTML, display"
   ]
  },
  {
   "cell_type": "markdown",
   "metadata": {},
   "source": [
    "## 3. Set Up the Conversion Function\n",
    "This function will handle the conversion process:"
   ]
  },
  {
   "cell_type": "code",
   "execution_count": 3,
   "metadata": {},
   "outputs": [],
   "source": [
    "def convert_notebook_to_html(notebook_path, template='basic'):\n",
    "    \"\"\"\n",
    "    Convert a Jupyter notebook to HTML.\n",
    "    \n",
    "    Args:\n",
    "        notebook_path (str): Path to the input notebook\n",
    "        template (str): Template to use ('basic' or 'full')\n",
    "    \n",
    "    Returns:\n",
    "        str: Path to the output HTML file\n",
    "    \"\"\"\n",
    "    try:\n",
    "        # Verify the file exists\n",
    "        if not os.path.exists(notebook_path):\n",
    "            raise FileNotFoundError(f\"Could not find notebook: {notebook_path}\")\n",
    "            \n",
    "        # Read the notebook\n",
    "        with open(notebook_path, 'r', encoding='utf-8') as f:\n",
    "            nb = nbformat.read(f, as_version=4)\n",
    "        \n",
    "        # Configure the exporter\n",
    "        html_exporter = nbconvert.HTMLExporter()\n",
    "        html_exporter.template_name = template\n",
    "        \n",
    "        # Convert to HTML\n",
    "        body, resources = html_exporter.from_notebook_node(nb)\n",
    "        \n",
    "        # Generate output filename\n",
    "        output_file = notebook_path.replace('.ipynb', '.html')\n",
    "        \n",
    "        # Save the HTML file\n",
    "        with open(output_file, 'w', encoding='utf-8') as f:\n",
    "            f.write(body)\n",
    "        \n",
    "        print(f'✅ Successfully converted notebook to: {output_file}')\n",
    "        return output_file\n",
    "    \n",
    "    except Exception as e:\n",
    "        print(f'❌ Error converting notebook: {str(e)}')\n",
    "        return None"
   ]
  },
  {
   "cell_type": "markdown",
   "metadata": {},
   "source": [
    "## 4. List Available Notebooks\n",
    "This will show you all .ipynb files in the current directory:"
   ]
  },
  {
   "cell_type": "code",
   "execution_count": 4,
   "metadata": {},
   "outputs": [
    {
     "name": "stdout",
     "output_type": "stream",
     "text": [
      "Available notebooks in current directory:\n",
      "1. Untitled.ipynb\n",
      "2. jupyter-conversion (1).ipynb\n",
      "3. letters-as-numbers.ipynb\n"
     ]
    }
   ],
   "source": [
    "notebooks = [f for f in os.listdir('.') if f.endswith('.ipynb')]\n",
    "print(\"Available notebooks in current directory:\")\n",
    "for i, notebook in enumerate(notebooks, 1):\n",
    "    print(f\"{i}. {notebook}\")"
   ]
  },
  {
   "cell_type": "markdown",
   "metadata": {},
   "source": [
    "## 5. Convert Your Notebook\n",
    "Run this cell to convert your chosen notebook:"
   ]
  },
  {
   "cell_type": "code",
   "execution_count": 5,
   "metadata": {},
   "outputs": [
    {
     "name": "stdin",
     "output_type": "stream",
     "text": [
      "Enter the name of the notebook to convert (including .ipynb):  Untitled.ipynb\n",
      "Choose template (basic/full) - press Enter for basic:  full\n"
     ]
    },
    {
     "name": "stdout",
     "output_type": "stream",
     "text": [
      "✅ Successfully converted notebook to: Untitled.html\n",
      "\n",
      "Next steps:\n",
      "1. Upload the HTML file to a web hosting service\n",
      "2. In Wix Editor:\n",
      "   - Click the + button\n",
      "   - Select 'Embed Code'\n",
      "   - Choose 'HTML iframe'\n",
      "   - Enter your hosted HTML file URL\n",
      "\n",
      "Preview of generated HTML:\n",
      "<!DOCTYPE html>\n",
      "\n",
      "\n",
      "\n",
      "<html lang=\"en\">\n",
      "\n",
      "<head><meta charset=\"utf-8\"/>\n",
      "\n",
      "<meta content=\"width=device-width, initial-scale=1.0\" name=\"viewport\"/>\n",
      "\n",
      "<title>Notebook</title><script src=\"https://cdnjs.cloudflare.com/ajax/libs/require.js/2.1.10/require.min.js\"></script>\n",
      "\n",
      "<style type=\"text/css\">\n",
      "\n",
      "    pre { line-height: 125%; }\n",
      "\n",
      "td.linenos .normal { color: inherit; background-color: transparent; padding-left: 5px; padding-right: 5px; }\n",
      "\n",
      "span.linenos { color: inherit; background-color: transparent; padding-left: 5px; padding-right: 5px; }\n",
      "\n"
     ]
    }
   ],
   "source": [
    "# Get notebook name from user\n",
    "notebook_name = input(\"Enter the name of the notebook to convert (including .ipynb): \")\n",
    "\n",
    "# Get template preference\n",
    "template = input(\"Choose template (basic/full) - press Enter for basic: \") or 'basic'\n",
    "\n",
    "# Convert the notebook\n",
    "output_file = convert_notebook_to_html(notebook_name, template)\n",
    "\n",
    "if output_file:\n",
    "    print(\"\\nNext steps:\")\n",
    "    print(\"1. Upload the HTML file to a web hosting service\")\n",
    "    print(\"2. In Wix Editor:\")\n",
    "    print(\"   - Click the + button\")\n",
    "    print(\"   - Select 'Embed Code'\")\n",
    "    print(\"   - Choose 'HTML iframe'\")\n",
    "    print(\"   - Enter your hosted HTML file URL\")\n",
    "    \n",
    "    # Preview the first few lines of the HTML\n",
    "    print(\"\\nPreview of generated HTML:\")\n",
    "    with open(output_file, 'r', encoding='utf-8') as f:\n",
    "        preview = '\\n'.join(f.readlines()[:10])\n",
    "    print(preview)"
   ]
  },
  {
   "cell_type": "markdown",
   "metadata": {},
   "source": [
    "## 6. Verify the Conversion\n",
    "This cell will show you a preview of how your notebook looks in HTML:"
   ]
  },
  {
   "cell_type": "code",
   "execution_count": null,
   "metadata": {},
   "outputs": [],
   "source": [
    "if output_file and os.path.exists(output_file):\n",
    "    with open(output_file, 'r', encoding='utf-8') as f:\n",
    "        html_content = f.read()\n",
    "    display(HTML(html_content))\n",
    "else:\n",
    "    print(\"Please run the conversion cell above first.\")"
   ]
  },
  {
   "cell_type": "markdown",
   "metadata": {},
   "source": [
    "## Troubleshooting Tips\n",
    "\n",
    "If you encounter any issues:\n",
    "\n",
    "1. **File not found error**: Make sure the notebook is in the same directory as this converter notebook\n",
    "2. **Encoding errors**: Try opening the notebook in Jupyter and saving it again\n",
    "3. **Interactive elements not working**: \n",
    "   - Use the 'full' template instead of 'basic'\n",
    "   - Ensure your web hosting service allows JavaScript\n",
    "   - Configure the Wix iframe to allow JavaScript content\n",
    "4. **Display issues in Wix**:\n",
    "   - Adjust the iframe size in Wix settings\n",
    "   - Try both 'basic' and 'full' templates to see which works better"
   ]
  }
 ],
 "metadata": {
  "kernelspec": {
   "display_name": "Python 3 (ipykernel)",
   "language": "python",
   "name": "python3"
  },
  "language_info": {
   "codemirror_mode": {
    "name": "ipython",
    "version": 3
   },
   "file_extension": ".py",
   "mimetype": "text/x-python",
   "name": "python",
   "nbconvert_exporter": "python",
   "pygments_lexer": "ipython3",
   "version": "3.12.5"
  }
 },
 "nbformat": 4,
 "nbformat_minor": 4
}
