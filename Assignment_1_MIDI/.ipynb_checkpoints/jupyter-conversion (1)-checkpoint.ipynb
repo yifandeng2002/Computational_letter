{
 "cells": [
  {
   "cell_type": "markdown",
   "metadata": {},
   "source": [
    "# Converting Jupyter Notebook to HTML for Wix\n",
    "\n",
    "This notebook provides executable code to convert your Jupyter notebook to HTML format for embedding in Wix. Just run each cell in order and follow the prompts."
   ]
  },
  {
   "cell_type": "markdown",
   "metadata": {},
   "source": [
    "## 1. Install Required Package\n",
    "First, let's install `nbconvert` if you haven't already:"
   ]
  },
  {
   "cell_type": "code",
   "execution_count": null,
   "metadata": {},
   "source": [
    "!pip install nbconvert"
   ]
  },
  {
   "cell_type": "markdown",
   "metadata": {},
   "source": [
    "## 2. Import Required Libraries\n",
    "Now we'll import the libraries we need:"
   ]
  },
  {
   "cell_type": "code",
   "execution_count": null,
   "metadata": {},
   "source": [
    "import nbconvert\n",
    "import nbformat\n",
    "import os\n",
    "from IPython.display import HTML, display"
   ]
  },
  {
   "cell_type": "markdown",
   "metadata": {},
   "source": [
    "## 3. Set Up the Conversion Function\n",
    "This function will handle the conversion process:"
   ]
  },
  {
   "cell_type": "code",
   "execution_count": null,
   "metadata": {},
   "source": [
    "def convert_notebook_to_html(notebook_path, template='basic'):\n",
    "    \"\"\"\n",
    "    Convert a Jupyter notebook to HTML.\n",
    "    \n",
    "    Args:\n",
    "        notebook_path (str): Path to the input notebook\n",
    "        template (str): Template to use ('basic' or 'full')\n",
    "    \n",
    "    Returns:\n",
    "        str: Path to the output HTML file\n",
    "    \"\"\"\n",
    "    try:\n",
    "        # Verify the file exists\n",
    "        if not os.path.exists(notebook_path):\n",
    "            raise FileNotFoundError(f\"Could not find notebook: {notebook_path}\")\n",
    "            \n",
    "        # Read the notebook\n",
    "        with open(notebook_path, 'r', encoding='utf-8') as f:\n",
    "            nb = nbformat.read(f, as_version=4)\n",
    "        \n",
    "        # Configure the exporter\n",
    "        html_exporter = nbconvert.HTMLExporter()\n",
    "        html_exporter.template_name = template\n",
    "        \n",
    "        # Convert to HTML\n",
    "        body, resources = html_exporter.from_notebook_node(nb)\n",
    "        \n",
    "        # Generate output filename\n",
    "        output_file = notebook_path.replace('.ipynb', '.html')\n",
    "        \n",
    "        # Save the HTML file\n",
    "        with open(output_file, 'w', encoding='utf-8') as f:\n",
    "            f.write(body)\n",
    "        \n",
    "        print(f'✅ Successfully converted notebook to: {output_file}')\n",
    "        return output_file\n",
    "    \n",
    "    except Exception as e:\n",
    "        print(f'❌ Error converting notebook: {str(e)}')\n",
    "        return None"
   ]
  },
  {
   "cell_type": "markdown",
   "metadata": {},
   "source": [
    "## 4. List Available Notebooks\n",
    "This will show you all .ipynb files in the current directory:"
   ]
  },
  {
   "cell_type": "code",
   "execution_count": null,
   "metadata": {},
   "source": [
    "notebooks = [f for f in os.listdir('.') if f.endswith('.ipynb')]\n",
    "print(\"Available notebooks in current directory:\")\n",
    "for i, notebook in enumerate(notebooks, 1):\n",
    "    print(f\"{i}. {notebook}\")"
   ]
  },
  {
   "cell_type": "markdown",
   "metadata": {},
   "source": [
    "## 5. Convert Your Notebook\n",
    "Run this cell to convert your chosen notebook:"
   ]
  },
  {
   "cell_type": "code",
   "execution_count": null,
   "metadata": {},
   "source": [
    "# Get notebook name from user\n",
    "notebook_name = input(\"Enter the name of the notebook to convert (including .ipynb): \")\n",
    "\n",
    "# Get template preference\n",
    "template = input(\"Choose template (basic/full) - press Enter for basic: \") or 'basic'\n",
    "\n",
    "# Convert the notebook\n",
    "output_file = convert_notebook_to_html(notebook_name, template)\n",
    "\n",
    "if output_file:\n",
    "    print(\"\\nNext steps:\")\n",
    "    print(\"1. Upload the HTML file to a web hosting service\")\n",
    "    print(\"2. In Wix Editor:\")\n",
    "    print(\"   - Click the + button\")\n",
    "    print(\"   - Select 'Embed Code'\")\n",
    "    print(\"   - Choose 'HTML iframe'\")\n",
    "    print(\"   - Enter your hosted HTML file URL\")\n",
    "    \n",
    "    # Preview the first few lines of the HTML\n",
    "    print(\"\\nPreview of generated HTML:\")\n",
    "    with open(output_file, 'r', encoding='utf-8') as f:\n",
    "        preview = '\\n'.join(f.readlines()[:10])\n",
    "    print(preview)"
   ]
  },
  {
   "cell_type": "markdown",
   "metadata": {},
   "source": [
    "## 6. Verify the Conversion\n",
    "This cell will show you a preview of how your notebook looks in HTML:"
   ]
  },
  {
   "cell_type": "code",
   "execution_count": null,
   "metadata": {},
   "source": [
    "if output_file and os.path.exists(output_file):\n",
    "    with open(output_file, 'r', encoding='utf-8') as f:\n",
    "        html_content = f.read()\n",
    "    display(HTML(html_content))\n",
    "else:\n",
    "    print(\"Please run the conversion cell above first.\")"
   ]
  },
  {
   "cell_type": "markdown",
   "metadata": {},
   "source": [
    "## Troubleshooting Tips\n",
    "\n",
    "If you encounter any issues:\n",
    "\n",
    "1. **File not found error**: Make sure the notebook is in the same directory as this converter notebook\n",
    "2. **Encoding errors**: Try opening the notebook in Jupyter and saving it again\n",
    "3. **Interactive elements not working**: \n",
    "   - Use the 'full' template instead of 'basic'\n",
    "   - Ensure your web hosting service allows JavaScript\n",
    "   - Configure the Wix iframe to allow JavaScript content\n",
    "4. **Display issues in Wix**:\n",
    "   - Adjust the iframe size in Wix settings\n",
    "   - Try both 'basic' and 'full' templates to see which works better"
   ]
  }
 ],
 "metadata": {
  "kernelspec": {
   "display_name": "Python 3",
   "language": "python",
   "name": "python3"
  },
  "language_info": {
   "codemirror_mode": {
    "name": "ipython",
    "version": 3
   },
   "file_extension": ".py",
   "mimetype": "text/x-python",
   "name": "python",
   "nbconvert_exporter": "python",
   "pygments_lexer": "ipython3",
   "version": "3.8.0"
  }
 },
 "nbformat": 4,
 "nbformat_minor": 4
}